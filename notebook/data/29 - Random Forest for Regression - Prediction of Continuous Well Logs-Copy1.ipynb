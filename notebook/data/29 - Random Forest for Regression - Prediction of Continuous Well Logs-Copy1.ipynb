{
 "cells": [
  {
   "cell_type": "markdown",
   "id": "e3dcafed",
   "metadata": {},
   "source": [
    "# Random Forest for Predicting Continuous Well Measurements"
   ]
  },
  {
   "cell_type": "markdown",
   "id": "48a83402",
   "metadata": {},
   "source": [
    "## Problem statement\n",
    " \n",
    " The  objective of this project is to develop an end-to-end machine learning workflow for petrophysics. Specifically, we aim to predict missing or unavailable well log curves using available geophysical logs. This will allow for improved reservoir characterization and reduce uncertainty in formation evaluation.\n"
   ]
  },
  {
   "cell_type": "markdown",
   "id": "33025840",
   "metadata": {},
   "source": [
    "## Importing Libraries and Loading Data"
   ]
  },
  {
   "cell_type": "code",
   "execution_count": 10,
   "id": "731ac85c",
   "metadata": {},
   "outputs": [],
   "source": [
    "import pandas as pd\n",
    "import matplotlib.pyplot as plt"
   ]
  },
  {
   "cell_type": "code",
   "execution_count": 12,
   "id": "c2fb85af",
   "metadata": {},
   "outputs": [],
   "source": [
    "df = pd.read_csv('volve_wells.csv', usecols=['WELL', 'DEPTH', 'RHOB', 'GR', 'NPHI', 'PEF', 'DT'])"
   ]
  },
  {
   "cell_type": "markdown",
   "id": "1c86690f",
   "metadata": {},
   "source": [
    "## Create Training, Testing and Validation Datasets"
   ]
  },
  {
   "cell_type": "markdown",
   "id": "01aade55",
   "metadata": {},
   "source": [
    "Our dataset should have 4 wells within it. We can confirm this by calling upon the `unique()` function"
   ]
  },
  {
   "cell_type": "code",
   "execution_count": 13,
   "id": "7c6c58be",
   "metadata": {},
   "outputs": [
    {
     "data": {
      "text/plain": [
       "array(['15/9-F-11 B', '15/9-F-11 A', '15/9-F-1 B', '15/9-F-1 A'],\n",
       "      dtype=object)"
      ]
     },
     "execution_count": 13,
     "metadata": {},
     "output_type": "execute_result"
    }
   ],
   "source": [
    "df['WELL'].unique()"
   ]
  },
  {
   "cell_type": "markdown",
   "id": "0607c9d1",
   "metadata": {},
   "source": [
    "As we are using measurements taken from multiple wells, one way to split our data into training and testing is to set aside a single well (blind test well) which will be used to see how our model performs on unseen data."
   ]
  },
  {
   "cell_type": "code",
   "execution_count": 14,
   "id": "c7114040",
   "metadata": {},
   "outputs": [],
   "source": [
    "# Training Wells\n",
    "training_wells = ['15/9-F-11 B', '15/9-F-11 A', '15/9-F-1 A']\n",
    "\n",
    "# Test Well\n",
    "test_well = ['15/9-F-1 B']\n"
   ]
  },
  {
   "cell_type": "markdown",
   "id": "dfd658cc",
   "metadata": {},
   "source": [
    "\"Extract\" the data from the main dataframe using the well lists above"
   ]
  },
  {
   "cell_type": "code",
   "execution_count": 15,
   "id": "6320823a",
   "metadata": {},
   "outputs": [],
   "source": [
    "train_val_df = df[df['WELL'].isin(training_wells)].copy()\n",
    "test_df = df[df['WELL'].isin(test_well)].copy()"
   ]
  },
  {
   "cell_type": "code",
   "execution_count": 16,
   "id": "37d705af",
   "metadata": {},
   "outputs": [
    {
     "data": {
      "text/html": [
       "<div>\n",
       "<style scoped>\n",
       "    .dataframe tbody tr th:only-of-type {\n",
       "        vertical-align: middle;\n",
       "    }\n",
       "\n",
       "    .dataframe tbody tr th {\n",
       "        vertical-align: top;\n",
       "    }\n",
       "\n",
       "    .dataframe thead th {\n",
       "        text-align: right;\n",
       "    }\n",
       "</style>\n",
       "<table border=\"1\" class=\"dataframe\">\n",
       "  <thead>\n",
       "    <tr style=\"text-align: right;\">\n",
       "      <th></th>\n",
       "      <th>DEPTH</th>\n",
       "      <th>DT</th>\n",
       "      <th>GR</th>\n",
       "      <th>NPHI</th>\n",
       "      <th>PEF</th>\n",
       "      <th>RHOB</th>\n",
       "    </tr>\n",
       "  </thead>\n",
       "  <tbody>\n",
       "    <tr>\n",
       "      <th>count</th>\n",
       "      <td>116914.000000</td>\n",
       "      <td>21699.000000</td>\n",
       "      <td>115933.000000</td>\n",
       "      <td>37587.000000</td>\n",
       "      <td>37668.000000</td>\n",
       "      <td>37668.000000</td>\n",
       "    </tr>\n",
       "    <tr>\n",
       "      <th>mean</th>\n",
       "      <td>2154.233438</td>\n",
       "      <td>77.252247</td>\n",
       "      <td>51.823119</td>\n",
       "      <td>0.174302</td>\n",
       "      <td>6.450603</td>\n",
       "      <td>2.443072</td>\n",
       "    </tr>\n",
       "    <tr>\n",
       "      <th>std</th>\n",
       "      <td>1180.976133</td>\n",
       "      <td>14.350893</td>\n",
       "      <td>37.606884</td>\n",
       "      <td>0.085660</td>\n",
       "      <td>1.478121</td>\n",
       "      <td>0.166466</td>\n",
       "    </tr>\n",
       "    <tr>\n",
       "      <th>min</th>\n",
       "      <td>145.900000</td>\n",
       "      <td>53.165000</td>\n",
       "      <td>0.149100</td>\n",
       "      <td>0.010000</td>\n",
       "      <td>3.647000</td>\n",
       "      <td>1.627000</td>\n",
       "    </tr>\n",
       "    <tr>\n",
       "      <th>25%</th>\n",
       "      <td>1148.525000</td>\n",
       "      <td>66.854450</td>\n",
       "      <td>22.126100</td>\n",
       "      <td>0.115000</td>\n",
       "      <td>5.078850</td>\n",
       "      <td>2.276000</td>\n",
       "    </tr>\n",
       "    <tr>\n",
       "      <th>50%</th>\n",
       "      <td>2122.800000</td>\n",
       "      <td>72.724000</td>\n",
       "      <td>52.217000</td>\n",
       "      <td>0.163000</td>\n",
       "      <td>6.548700</td>\n",
       "      <td>2.501000</td>\n",
       "    </tr>\n",
       "    <tr>\n",
       "      <th>75%</th>\n",
       "      <td>3097.100000</td>\n",
       "      <td>86.132300</td>\n",
       "      <td>74.201000</td>\n",
       "      <td>0.212100</td>\n",
       "      <td>7.728625</td>\n",
       "      <td>2.577000</td>\n",
       "    </tr>\n",
       "    <tr>\n",
       "      <th>max</th>\n",
       "      <td>4770.200000</td>\n",
       "      <td>126.827000</td>\n",
       "      <td>1124.403000</td>\n",
       "      <td>0.593200</td>\n",
       "      <td>13.841000</td>\n",
       "      <td>3.090000</td>\n",
       "    </tr>\n",
       "  </tbody>\n",
       "</table>\n",
       "</div>"
      ],
      "text/plain": [
       "               DEPTH            DT             GR          NPHI           PEF  \\\n",
       "count  116914.000000  21699.000000  115933.000000  37587.000000  37668.000000   \n",
       "mean     2154.233438     77.252247      51.823119      0.174302      6.450603   \n",
       "std      1180.976133     14.350893      37.606884      0.085660      1.478121   \n",
       "min       145.900000     53.165000       0.149100      0.010000      3.647000   \n",
       "25%      1148.525000     66.854450      22.126100      0.115000      5.078850   \n",
       "50%      2122.800000     72.724000      52.217000      0.163000      6.548700   \n",
       "75%      3097.100000     86.132300      74.201000      0.212100      7.728625   \n",
       "max      4770.200000    126.827000    1124.403000      0.593200     13.841000   \n",
       "\n",
       "               RHOB  \n",
       "count  37668.000000  \n",
       "mean       2.443072  \n",
       "std        0.166466  \n",
       "min        1.627000  \n",
       "25%        2.276000  \n",
       "50%        2.501000  \n",
       "75%        2.577000  \n",
       "max        3.090000  "
      ]
     },
     "execution_count": 16,
     "metadata": {},
     "output_type": "execute_result"
    }
   ],
   "source": [
    "train_val_df.describe()"
   ]
  },
  {
   "cell_type": "code",
   "execution_count": 17,
   "id": "fc094c52",
   "metadata": {},
   "outputs": [
    {
     "data": {
      "text/html": [
       "<div>\n",
       "<style scoped>\n",
       "    .dataframe tbody tr th:only-of-type {\n",
       "        vertical-align: middle;\n",
       "    }\n",
       "\n",
       "    .dataframe tbody tr th {\n",
       "        vertical-align: top;\n",
       "    }\n",
       "\n",
       "    .dataframe thead th {\n",
       "        text-align: right;\n",
       "    }\n",
       "</style>\n",
       "<table border=\"1\" class=\"dataframe\">\n",
       "  <thead>\n",
       "    <tr style=\"text-align: right;\">\n",
       "      <th></th>\n",
       "      <th>DEPTH</th>\n",
       "      <th>DT</th>\n",
       "      <th>GR</th>\n",
       "      <th>NPHI</th>\n",
       "      <th>PEF</th>\n",
       "      <th>RHOB</th>\n",
       "    </tr>\n",
       "  </thead>\n",
       "  <tbody>\n",
       "    <tr>\n",
       "      <th>count</th>\n",
       "      <td>33191.000000</td>\n",
       "      <td>4262.000000</td>\n",
       "      <td>32498.000000</td>\n",
       "      <td>3413.000000</td>\n",
       "      <td>3441.000000</td>\n",
       "      <td>3441.000000</td>\n",
       "    </tr>\n",
       "    <tr>\n",
       "      <th>mean</th>\n",
       "      <td>1805.400000</td>\n",
       "      <td>80.380006</td>\n",
       "      <td>56.864115</td>\n",
       "      <td>0.203836</td>\n",
       "      <td>6.445014</td>\n",
       "      <td>2.453695</td>\n",
       "    </tr>\n",
       "    <tr>\n",
       "      <th>std</th>\n",
       "      <td>958.156073</td>\n",
       "      <td>14.698333</td>\n",
       "      <td>35.935409</td>\n",
       "      <td>0.095991</td>\n",
       "      <td>0.811407</td>\n",
       "      <td>0.129990</td>\n",
       "    </tr>\n",
       "    <tr>\n",
       "      <th>min</th>\n",
       "      <td>145.900000</td>\n",
       "      <td>54.928300</td>\n",
       "      <td>0.149300</td>\n",
       "      <td>0.059500</td>\n",
       "      <td>4.729900</td>\n",
       "      <td>2.111800</td>\n",
       "    </tr>\n",
       "    <tr>\n",
       "      <th>25%</th>\n",
       "      <td>975.650000</td>\n",
       "      <td>71.513225</td>\n",
       "      <td>29.481175</td>\n",
       "      <td>0.146900</td>\n",
       "      <td>5.938300</td>\n",
       "      <td>2.379200</td>\n",
       "    </tr>\n",
       "    <tr>\n",
       "      <th>50%</th>\n",
       "      <td>1805.400000</td>\n",
       "      <td>76.295350</td>\n",
       "      <td>58.005700</td>\n",
       "      <td>0.172700</td>\n",
       "      <td>6.352900</td>\n",
       "      <td>2.482100</td>\n",
       "    </tr>\n",
       "    <tr>\n",
       "      <th>75%</th>\n",
       "      <td>2635.150000</td>\n",
       "      <td>85.365475</td>\n",
       "      <td>79.247200</td>\n",
       "      <td>0.222300</td>\n",
       "      <td>6.872600</td>\n",
       "      <td>2.536700</td>\n",
       "    </tr>\n",
       "    <tr>\n",
       "      <th>max</th>\n",
       "      <td>3464.900000</td>\n",
       "      <td>125.982700</td>\n",
       "      <td>297.767300</td>\n",
       "      <td>0.557600</td>\n",
       "      <td>10.987600</td>\n",
       "      <td>3.051700</td>\n",
       "    </tr>\n",
       "  </tbody>\n",
       "</table>\n",
       "</div>"
      ],
      "text/plain": [
       "              DEPTH           DT            GR         NPHI          PEF  \\\n",
       "count  33191.000000  4262.000000  32498.000000  3413.000000  3441.000000   \n",
       "mean    1805.400000    80.380006     56.864115     0.203836     6.445014   \n",
       "std      958.156073    14.698333     35.935409     0.095991     0.811407   \n",
       "min      145.900000    54.928300      0.149300     0.059500     4.729900   \n",
       "25%      975.650000    71.513225     29.481175     0.146900     5.938300   \n",
       "50%     1805.400000    76.295350     58.005700     0.172700     6.352900   \n",
       "75%     2635.150000    85.365475     79.247200     0.222300     6.872600   \n",
       "max     3464.900000   125.982700    297.767300     0.557600    10.987600   \n",
       "\n",
       "              RHOB  \n",
       "count  3441.000000  \n",
       "mean      2.453695  \n",
       "std       0.129990  \n",
       "min       2.111800  \n",
       "25%       2.379200  \n",
       "50%       2.482100  \n",
       "75%       2.536700  \n",
       "max       3.051700  "
      ]
     },
     "execution_count": 17,
     "metadata": {},
     "output_type": "execute_result"
    }
   ],
   "source": [
    "test_df.describe()"
   ]
  },
  {
   "cell_type": "markdown",
   "id": "df9ab50f",
   "metadata": {},
   "source": [
    "### Remove NaN Values From Dataframe\n",
    "Removing missing values from the dataframe is one way to deal with them, however, doing so reduces the amount of training data you have available. Other methods can be used to infill the NaNs with sensible values."
   ]
  },
  {
   "cell_type": "code",
   "execution_count": 18,
   "id": "d3a9d82c",
   "metadata": {},
   "outputs": [
    {
     "data": {
      "text/html": [
       "<div>\n",
       "<style scoped>\n",
       "    .dataframe tbody tr th:only-of-type {\n",
       "        vertical-align: middle;\n",
       "    }\n",
       "\n",
       "    .dataframe tbody tr th {\n",
       "        vertical-align: top;\n",
       "    }\n",
       "\n",
       "    .dataframe thead th {\n",
       "        text-align: right;\n",
       "    }\n",
       "</style>\n",
       "<table border=\"1\" class=\"dataframe\">\n",
       "  <thead>\n",
       "    <tr style=\"text-align: right;\">\n",
       "      <th></th>\n",
       "      <th>DEPTH</th>\n",
       "      <th>DT</th>\n",
       "      <th>GR</th>\n",
       "      <th>NPHI</th>\n",
       "      <th>PEF</th>\n",
       "      <th>RHOB</th>\n",
       "    </tr>\n",
       "  </thead>\n",
       "  <tbody>\n",
       "    <tr>\n",
       "      <th>count</th>\n",
       "      <td>21688.000000</td>\n",
       "      <td>21688.000000</td>\n",
       "      <td>21688.000000</td>\n",
       "      <td>21688.000000</td>\n",
       "      <td>21688.000000</td>\n",
       "      <td>21688.000000</td>\n",
       "    </tr>\n",
       "    <tr>\n",
       "      <th>mean</th>\n",
       "      <td>3141.098875</td>\n",
       "      <td>77.235857</td>\n",
       "      <td>39.803246</td>\n",
       "      <td>0.166648</td>\n",
       "      <td>7.093603</td>\n",
       "      <td>2.475232</td>\n",
       "    </tr>\n",
       "    <tr>\n",
       "      <th>std</th>\n",
       "      <td>314.723749</td>\n",
       "      <td>14.336048</td>\n",
       "      <td>57.907158</td>\n",
       "      <td>0.099200</td>\n",
       "      <td>1.188313</td>\n",
       "      <td>0.147635</td>\n",
       "    </tr>\n",
       "    <tr>\n",
       "      <th>min</th>\n",
       "      <td>2577.000000</td>\n",
       "      <td>53.165000</td>\n",
       "      <td>0.852000</td>\n",
       "      <td>0.010000</td>\n",
       "      <td>4.297800</td>\n",
       "      <td>1.980600</td>\n",
       "    </tr>\n",
       "    <tr>\n",
       "      <th>25%</th>\n",
       "      <td>2869.475000</td>\n",
       "      <td>66.849300</td>\n",
       "      <td>9.416350</td>\n",
       "      <td>0.096000</td>\n",
       "      <td>6.218475</td>\n",
       "      <td>2.379000</td>\n",
       "    </tr>\n",
       "    <tr>\n",
       "      <th>50%</th>\n",
       "      <td>3140.550000</td>\n",
       "      <td>72.720750</td>\n",
       "      <td>27.552000</td>\n",
       "      <td>0.136000</td>\n",
       "      <td>7.487700</td>\n",
       "      <td>2.533000</td>\n",
       "    </tr>\n",
       "    <tr>\n",
       "      <th>75%</th>\n",
       "      <td>3411.625000</td>\n",
       "      <td>86.093800</td>\n",
       "      <td>44.877425</td>\n",
       "      <td>0.217200</td>\n",
       "      <td>8.001000</td>\n",
       "      <td>2.581400</td>\n",
       "    </tr>\n",
       "    <tr>\n",
       "      <th>max</th>\n",
       "      <td>3723.300000</td>\n",
       "      <td>126.827000</td>\n",
       "      <td>1124.403000</td>\n",
       "      <td>0.593200</td>\n",
       "      <td>13.841000</td>\n",
       "      <td>3.025000</td>\n",
       "    </tr>\n",
       "  </tbody>\n",
       "</table>\n",
       "</div>"
      ],
      "text/plain": [
       "              DEPTH            DT            GR          NPHI           PEF  \\\n",
       "count  21688.000000  21688.000000  21688.000000  21688.000000  21688.000000   \n",
       "mean    3141.098875     77.235857     39.803246      0.166648      7.093603   \n",
       "std      314.723749     14.336048     57.907158      0.099200      1.188313   \n",
       "min     2577.000000     53.165000      0.852000      0.010000      4.297800   \n",
       "25%     2869.475000     66.849300      9.416350      0.096000      6.218475   \n",
       "50%     3140.550000     72.720750     27.552000      0.136000      7.487700   \n",
       "75%     3411.625000     86.093800     44.877425      0.217200      8.001000   \n",
       "max     3723.300000    126.827000   1124.403000      0.593200     13.841000   \n",
       "\n",
       "               RHOB  \n",
       "count  21688.000000  \n",
       "mean       2.475232  \n",
       "std        0.147635  \n",
       "min        1.980600  \n",
       "25%        2.379000  \n",
       "50%        2.533000  \n",
       "75%        2.581400  \n",
       "max        3.025000  "
      ]
     },
     "execution_count": 18,
     "metadata": {},
     "output_type": "execute_result"
    }
   ],
   "source": [
    "train_val_df.dropna(inplace=True)\n",
    "test_df.dropna(inplace=True)\n",
    "train_val_df.describe()"
   ]
  },
  {
   "cell_type": "markdown",
   "id": "4e55a73d",
   "metadata": {},
   "source": [
    "## Implementing the Random Forest Model"
   ]
  },
  {
   "cell_type": "code",
   "execution_count": null,
   "id": "fa08e1cc",
   "metadata": {},
   "outputs": [],
   "source": [
    "from sklearn.model_selection import train_test_split\n",
    "from sklearn import metrics\n",
    "from sklearn.ensemble import RandomForestRegressor"
   ]
  },
  {
   "cell_type": "markdown",
   "id": "b18c90d6",
   "metadata": {},
   "source": [
    "### Selecting Training and Target Features"
   ]
  },
  {
   "cell_type": "code",
   "execution_count": null,
   "id": "fd8dc2b5",
   "metadata": {},
   "outputs": [],
   "source": [
    "X = train_val_df[['RHOB', 'GR', 'NPHI', 'PEF']]\n",
    "y = train_val_df['DT']"
   ]
  },
  {
   "cell_type": "markdown",
   "id": "51ec1cf5",
   "metadata": {},
   "source": [
    "Note that the name test used here is commonly used within machine learning. In this case the variables X_test and y_test are our validation data. In other words it is used to help tune our model. "
   ]
  },
  {
   "cell_type": "code",
   "execution_count": null,
   "id": "fb9b92c0",
   "metadata": {},
   "outputs": [],
   "source": [
    "X_train, X_val, y_train, y_val = train_test_split(X, y, test_size=0.2)"
   ]
  },
  {
   "cell_type": "markdown",
   "id": "76c0fe11",
   "metadata": {},
   "source": [
    "Checking the shapes of X_train and X_test to make sure they have been split correctly."
   ]
  },
  {
   "cell_type": "markdown",
   "id": "6508af88",
   "metadata": {},
   "source": [
    "### Building the Model"
   ]
  },
  {
   "cell_type": "code",
   "execution_count": null,
   "id": "4d6904f6",
   "metadata": {},
   "outputs": [],
   "source": [
    "regr = RandomForestRegressor()"
   ]
  },
  {
   "cell_type": "code",
   "execution_count": null,
   "id": "4a37dd73",
   "metadata": {},
   "outputs": [],
   "source": [
    "regr.fit(X_train, y_train)"
   ]
  },
  {
   "cell_type": "code",
   "execution_count": null,
   "id": "8736e39b",
   "metadata": {},
   "outputs": [],
   "source": [
    "y_pred = regr.predict(X_val)"
   ]
  },
  {
   "cell_type": "markdown",
   "id": "f4443b15",
   "metadata": {},
   "source": [
    "### Check the Prediction Results"
   ]
  },
  {
   "cell_type": "code",
   "execution_count": null,
   "id": "f11706f0",
   "metadata": {},
   "outputs": [],
   "source": [
    "metrics.mean_absolute_error(y_val, y_pred)"
   ]
  },
  {
   "cell_type": "code",
   "execution_count": null,
   "id": "b225f0c1",
   "metadata": {},
   "outputs": [],
   "source": [
    "mse = metrics.mean_squared_error(y_val, y_pred)\n",
    "rmse = mse**0.5 "
   ]
  },
  {
   "cell_type": "code",
   "execution_count": null,
   "id": "7387a999",
   "metadata": {},
   "outputs": [],
   "source": [
    "rmse"
   ]
  },
  {
   "cell_type": "markdown",
   "id": "328fca04",
   "metadata": {},
   "source": [
    "Simple metrics like above are a nice way to see how a model has performed, but you should always check the actual data. \n",
    "\n",
    "In the plot below, we are comparing the real data against the predicted data."
   ]
  },
  {
   "cell_type": "code",
   "execution_count": null,
   "id": "6c5639e7",
   "metadata": {},
   "outputs": [],
   "source": [
    "plt.scatter(y_val, y_pred)\n",
    "plt.xlim(40, 140)\n",
    "plt.ylim(40, 140)\n",
    "plt.ylabel('Predicted DT')\n",
    "plt.xlabel('Actual DT')\n",
    "plt.plot([40,140], [40,140], 'black') #1 to 1 line"
   ]
  },
  {
   "cell_type": "markdown",
   "id": "742e3edd",
   "metadata": {},
   "source": [
    "## Test Well Prediction\n",
    "Once the model has been fine tuned, we can apply it to our blind test well and see how it performs."
   ]
  },
  {
   "cell_type": "code",
   "execution_count": null,
   "id": "9ffe8a16",
   "metadata": {},
   "outputs": [],
   "source": [
    "test_well_x = test_df[['RHOB', 'GR', 'NPHI', 'PEF']]"
   ]
  },
  {
   "cell_type": "code",
   "execution_count": null,
   "id": "af0d83da",
   "metadata": {},
   "outputs": [],
   "source": [
    "test_df['TEST_DT'] = regr.predict(test_well_x)"
   ]
  },
  {
   "cell_type": "code",
   "execution_count": null,
   "id": "71e6109f",
   "metadata": {},
   "outputs": [],
   "source": [
    "plt.scatter(test_df['DT'], test_df['TEST_DT'])\n",
    "plt.xlim(40, 140)\n",
    "plt.ylim(40, 140)\n",
    "plt.ylabel('Predicted DT')\n",
    "plt.xlabel('Actual DT')\n",
    "plt.plot([40,140], [40,140], 'black') #1 to 1 line"
   ]
  },
  {
   "cell_type": "code",
   "execution_count": null,
   "id": "ccb99db5",
   "metadata": {},
   "outputs": [],
   "source": [
    "plt.figure(figsize=(15, 5))\n",
    "plt.plot(test_df['DEPTH'], test_df['DT'], label='Actual DT')\n",
    "plt.plot(test_df['DEPTH'], test_df['TEST_DT'], label='Predicted DT')\n",
    "plt.xlabel('Depth (m)')\n",
    "plt.ylabel('DT')\n",
    "plt.ylim(40, 140)\n",
    "plt.legend()\n",
    "plt.grid()"
   ]
  },
  {
   "cell_type": "code",
   "execution_count": null,
   "id": "1859d8ec",
   "metadata": {},
   "outputs": [],
   "source": []
  }
 ],
 "metadata": {
  "kernelspec": {
   "display_name": "Python 3.8 (venv)",
   "language": "python",
   "name": "venv"
  },
  "language_info": {
   "codemirror_mode": {
    "name": "ipython",
    "version": 3
   },
   "file_extension": ".py",
   "mimetype": "text/x-python",
   "name": "python",
   "nbconvert_exporter": "python",
   "pygments_lexer": "ipython3",
   "version": "3.8.0"
  }
 },
 "nbformat": 4,
 "nbformat_minor": 5
}
